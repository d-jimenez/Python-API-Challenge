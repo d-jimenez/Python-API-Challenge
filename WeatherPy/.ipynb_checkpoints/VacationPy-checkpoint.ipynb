{
 "cells": [
  {
   "cell_type": "markdown",
   "metadata": {},
   "source": [
    "# VacationPy\n",
    "----\n",
    "\n",
    "#### Note\n",
    "* Keep an eye on your API usage. Use https://developers.google.com/maps/reporting/gmp-reporting as reference for how to monitor your usage and billing.\n",
    "\n",
    "* Instructions have been included for each segment. You do not have to follow them exactly, but they are included to help you think through the steps."
   ]
  },
  {
   "cell_type": "code",
   "execution_count": 1,
   "metadata": {},
   "outputs": [],
   "source": [
    "# Dependencies and Setup\n",
    "import matplotlib.pyplot as plt\n",
    "import pandas as pd\n",
    "import numpy as np\n",
    "import requests\n",
    "import gmaps\n",
    "import os\n",
    "from pprint import pprint\n",
    "\n",
    "# Import API key\n",
    "from api_keys import g_key"
   ]
  },
  {
   "cell_type": "markdown",
   "metadata": {},
   "source": [
    "### Store Part I results into DataFrame\n",
    "* Load the csv exported in Part I to a DataFrame"
   ]
  },
  {
   "cell_type": "code",
   "execution_count": 2,
   "metadata": {},
   "outputs": [
    {
     "data": {
      "text/html": [
       "<div>\n",
       "<style scoped>\n",
       "    .dataframe tbody tr th:only-of-type {\n",
       "        vertical-align: middle;\n",
       "    }\n",
       "\n",
       "    .dataframe tbody tr th {\n",
       "        vertical-align: top;\n",
       "    }\n",
       "\n",
       "    .dataframe thead th {\n",
       "        text-align: right;\n",
       "    }\n",
       "</style>\n",
       "<table border=\"1\" class=\"dataframe\">\n",
       "  <thead>\n",
       "    <tr style=\"text-align: right;\">\n",
       "      <th></th>\n",
       "      <th>City</th>\n",
       "      <th>Latitude</th>\n",
       "      <th>Longitude</th>\n",
       "      <th>Max Temp</th>\n",
       "      <th>Humidity</th>\n",
       "      <th>Cloudiness</th>\n",
       "      <th>Wind Speed</th>\n",
       "      <th>Country</th>\n",
       "      <th>Date</th>\n",
       "    </tr>\n",
       "  </thead>\n",
       "  <tbody>\n",
       "    <tr>\n",
       "      <th>0</th>\n",
       "      <td>Letterkenny</td>\n",
       "      <td>54.9500</td>\n",
       "      <td>-7.7333</td>\n",
       "      <td>274.06</td>\n",
       "      <td>88</td>\n",
       "      <td>100</td>\n",
       "      <td>4.16</td>\n",
       "      <td>IE</td>\n",
       "      <td>1612052820</td>\n",
       "    </tr>\n",
       "    <tr>\n",
       "      <th>1</th>\n",
       "      <td>Kapaa</td>\n",
       "      <td>22.0752</td>\n",
       "      <td>-159.3190</td>\n",
       "      <td>299.15</td>\n",
       "      <td>65</td>\n",
       "      <td>75</td>\n",
       "      <td>6.69</td>\n",
       "      <td>US</td>\n",
       "      <td>1612052817</td>\n",
       "    </tr>\n",
       "    <tr>\n",
       "      <th>2</th>\n",
       "      <td>Seymchan</td>\n",
       "      <td>62.8833</td>\n",
       "      <td>152.4333</td>\n",
       "      <td>239.40</td>\n",
       "      <td>80</td>\n",
       "      <td>100</td>\n",
       "      <td>4.77</td>\n",
       "      <td>RU</td>\n",
       "      <td>1612052821</td>\n",
       "    </tr>\n",
       "    <tr>\n",
       "      <th>3</th>\n",
       "      <td>Phan Thiet</td>\n",
       "      <td>10.9333</td>\n",
       "      <td>108.1000</td>\n",
       "      <td>295.04</td>\n",
       "      <td>72</td>\n",
       "      <td>100</td>\n",
       "      <td>2.17</td>\n",
       "      <td>VN</td>\n",
       "      <td>1612052821</td>\n",
       "    </tr>\n",
       "    <tr>\n",
       "      <th>4</th>\n",
       "      <td>Tuatapere</td>\n",
       "      <td>-46.1333</td>\n",
       "      <td>167.6833</td>\n",
       "      <td>291.85</td>\n",
       "      <td>47</td>\n",
       "      <td>93</td>\n",
       "      <td>0.59</td>\n",
       "      <td>NZ</td>\n",
       "      <td>1612052821</td>\n",
       "    </tr>\n",
       "  </tbody>\n",
       "</table>\n",
       "</div>"
      ],
      "text/plain": [
       "          City  Latitude  Longitude  Max Temp  Humidity  Cloudiness  \\\n",
       "0  Letterkenny   54.9500    -7.7333    274.06        88         100   \n",
       "1        Kapaa   22.0752  -159.3190    299.15        65          75   \n",
       "2     Seymchan   62.8833   152.4333    239.40        80         100   \n",
       "3   Phan Thiet   10.9333   108.1000    295.04        72         100   \n",
       "4    Tuatapere  -46.1333   167.6833    291.85        47          93   \n",
       "\n",
       "   Wind Speed Country        Date  \n",
       "0        4.16      IE  1612052820  \n",
       "1        6.69      US  1612052817  \n",
       "2        4.77      RU  1612052821  \n",
       "3        2.17      VN  1612052821  \n",
       "4        0.59      NZ  1612052821  "
      ]
     },
     "execution_count": 2,
     "metadata": {},
     "output_type": "execute_result"
    }
   ],
   "source": [
    "#Import cities csv as data frame\n",
    "cities_file_path=os.path.join(\"output_data\",\"cities.csv\")\n",
    "weather_df=pd.read_csv(cities_file_path)\n",
    "weather_0_df=weather_df.loc[:,[\"City\",\"Latitude\",\"Longitude\",\"Max Temp\",\"Humidity\",\"Cloudiness\",\"Wind Speed\",\"Country\",\"Date\"]]\n",
    "weather_0_df.head()"
   ]
  },
  {
   "cell_type": "markdown",
   "metadata": {},
   "source": [
    "### Humidity Heatmap\n",
    "* Configure gmaps.\n",
    "* Use the Lat and Lng as locations and Humidity as the weight.\n",
    "* Add Heatmap layer to map."
   ]
  },
  {
   "cell_type": "code",
   "execution_count": 3,
   "metadata": {},
   "outputs": [
    {
     "data": {
      "application/vnd.jupyter.widget-view+json": {
       "model_id": "478807f0a14243b39ae274373dae70a1",
       "version_major": 2,
       "version_minor": 0
      },
      "text/plain": [
       "Figure(layout=FigureLayout(border='1px solid black', height='300px', margin='0 auto 0 auto', padding='1px', wi…"
      ]
     },
     "metadata": {},
     "output_type": "display_data"
    }
   ],
   "source": [
    "# Access maps with unique API key\n",
    "gmaps.configure(api_key=g_key)\n",
    "\n",
    "\n",
    "# Store latitude and longitude in locations\n",
    "locations = weather_0_df[[\"Latitude\", \"Longitude\"]]\n",
    "# coordinates=zip(weather_df['Latitude'],weather_df['Longtitude'])\n",
    "\n",
    "#Store Weights for Heat Map\n",
    "humidity=weather_0_df[\"Humidity\"].astype(float)\n",
    "\n",
    "# Customize the size of the figure\n",
    "figure_layout = {\n",
    "    'width': '400px',\n",
    "    'height': '300px',\n",
    "    'border': '1px solid black',\n",
    "    'padding': '1px',\n",
    "    'margin': '0 auto 0 auto'\n",
    "}\n",
    "#Plot Heat Map\n",
    "fig=gmaps.figure(layout=figure_layout)\n",
    "\n",
    "#Create Heatmap Layer\n",
    "heat_layer= gmaps.heatmap_layer(locations,weights=humidity,dissipating=False,max_intensity=100,point_radius=5)\n",
    "\n",
    "\n",
    "fig.add_layer(heat_layer)\n",
    "\n",
    "fig"
   ]
  },
  {
   "cell_type": "code",
   "execution_count": null,
   "metadata": {},
   "outputs": [],
   "source": []
  },
  {
   "cell_type": "markdown",
   "metadata": {},
   "source": [
    "### Create new DataFrame fitting weather criteria\n",
    "* Narrow down the cities to fit weather conditions.\n",
    "* Drop any rows will null values."
   ]
  },
  {
   "cell_type": "code",
   "execution_count": 4,
   "metadata": {},
   "outputs": [
    {
     "data": {
      "text/html": [
       "<div>\n",
       "<style scoped>\n",
       "    .dataframe tbody tr th:only-of-type {\n",
       "        vertical-align: middle;\n",
       "    }\n",
       "\n",
       "    .dataframe tbody tr th {\n",
       "        vertical-align: top;\n",
       "    }\n",
       "\n",
       "    .dataframe thead th {\n",
       "        text-align: right;\n",
       "    }\n",
       "</style>\n",
       "<table border=\"1\" class=\"dataframe\">\n",
       "  <thead>\n",
       "    <tr style=\"text-align: right;\">\n",
       "      <th></th>\n",
       "      <th>City</th>\n",
       "      <th>Latitude</th>\n",
       "      <th>Longitude</th>\n",
       "      <th>Max Temp</th>\n",
       "      <th>Humidity</th>\n",
       "      <th>Cloudiness</th>\n",
       "      <th>Wind Speed</th>\n",
       "      <th>Country</th>\n",
       "      <th>Date</th>\n",
       "    </tr>\n",
       "  </thead>\n",
       "  <tbody>\n",
       "    <tr>\n",
       "      <th>140</th>\n",
       "      <td>Mahajanga</td>\n",
       "      <td>-15.7167</td>\n",
       "      <td>46.3167</td>\n",
       "      <td>297.15</td>\n",
       "      <td>88</td>\n",
       "      <td>20</td>\n",
       "      <td>1.54</td>\n",
       "      <td>MG</td>\n",
       "      <td>1612052844</td>\n",
       "    </tr>\n",
       "    <tr>\n",
       "      <th>204</th>\n",
       "      <td>Yenagoa</td>\n",
       "      <td>4.9247</td>\n",
       "      <td>6.2642</td>\n",
       "      <td>299.03</td>\n",
       "      <td>86</td>\n",
       "      <td>0</td>\n",
       "      <td>1.66</td>\n",
       "      <td>NG</td>\n",
       "      <td>1612052856</td>\n",
       "    </tr>\n",
       "    <tr>\n",
       "      <th>273</th>\n",
       "      <td>Malpe</td>\n",
       "      <td>13.3500</td>\n",
       "      <td>74.7167</td>\n",
       "      <td>297.15</td>\n",
       "      <td>83</td>\n",
       "      <td>1</td>\n",
       "      <td>1.47</td>\n",
       "      <td>IN</td>\n",
       "      <td>1612052870</td>\n",
       "    </tr>\n",
       "    <tr>\n",
       "      <th>311</th>\n",
       "      <td>Irámuco</td>\n",
       "      <td>19.9500</td>\n",
       "      <td>-100.9167</td>\n",
       "      <td>299.15</td>\n",
       "      <td>19</td>\n",
       "      <td>1</td>\n",
       "      <td>1.03</td>\n",
       "      <td>MX</td>\n",
       "      <td>1612052876</td>\n",
       "    </tr>\n",
       "    <tr>\n",
       "      <th>313</th>\n",
       "      <td>Warri</td>\n",
       "      <td>5.5167</td>\n",
       "      <td>5.7500</td>\n",
       "      <td>299.20</td>\n",
       "      <td>84</td>\n",
       "      <td>0</td>\n",
       "      <td>0.83</td>\n",
       "      <td>NG</td>\n",
       "      <td>1612052876</td>\n",
       "    </tr>\n",
       "    <tr>\n",
       "      <th>423</th>\n",
       "      <td>Saint-Louis</td>\n",
       "      <td>16.3333</td>\n",
       "      <td>-15.0000</td>\n",
       "      <td>298.15</td>\n",
       "      <td>33</td>\n",
       "      <td>0</td>\n",
       "      <td>1.03</td>\n",
       "      <td>SN</td>\n",
       "      <td>1612052896</td>\n",
       "    </tr>\n",
       "    <tr>\n",
       "      <th>467</th>\n",
       "      <td>Mangaratiba</td>\n",
       "      <td>-22.9597</td>\n",
       "      <td>-44.0406</td>\n",
       "      <td>299.15</td>\n",
       "      <td>78</td>\n",
       "      <td>0</td>\n",
       "      <td>1.54</td>\n",
       "      <td>BR</td>\n",
       "      <td>1612052905</td>\n",
       "    </tr>\n",
       "    <tr>\n",
       "      <th>512</th>\n",
       "      <td>Grand Gaube</td>\n",
       "      <td>-20.0064</td>\n",
       "      <td>57.6608</td>\n",
       "      <td>297.59</td>\n",
       "      <td>86</td>\n",
       "      <td>6</td>\n",
       "      <td>1.34</td>\n",
       "      <td>MU</td>\n",
       "      <td>1612052848</td>\n",
       "    </tr>\n",
       "  </tbody>\n",
       "</table>\n",
       "</div>"
      ],
      "text/plain": [
       "            City  Latitude  Longitude  Max Temp  Humidity  Cloudiness  \\\n",
       "140    Mahajanga  -15.7167    46.3167    297.15        88          20   \n",
       "204      Yenagoa    4.9247     6.2642    299.03        86           0   \n",
       "273        Malpe   13.3500    74.7167    297.15        83           1   \n",
       "311      Irámuco   19.9500  -100.9167    299.15        19           1   \n",
       "313        Warri    5.5167     5.7500    299.20        84           0   \n",
       "423  Saint-Louis   16.3333   -15.0000    298.15        33           0   \n",
       "467  Mangaratiba  -22.9597   -44.0406    299.15        78           0   \n",
       "512  Grand Gaube  -20.0064    57.6608    297.59        86           6   \n",
       "\n",
       "     Wind Speed Country        Date  \n",
       "140        1.54      MG  1612052844  \n",
       "204        1.66      NG  1612052856  \n",
       "273        1.47      IN  1612052870  \n",
       "311        1.03      MX  1612052876  \n",
       "313        0.83      NG  1612052876  \n",
       "423        1.03      SN  1612052896  \n",
       "467        1.54      BR  1612052905  \n",
       "512        1.34      MU  1612052848  "
      ]
     },
     "execution_count": 4,
     "metadata": {},
     "output_type": "execute_result"
    }
   ],
   "source": [
    "#Ideal Weather Conditions\n",
    "    # 75 < Max Temperature < 80 Farenheit, which is ~297 to 300 K\n",
    "    # Wind Speed < 3\n",
    "    # Humidity < 90\n",
    "    # Cloudiness < 30\n",
    "\n",
    "#Filter Original Data Frame to Ideal Weather Conditions\n",
    "weather_filter=(weather_0_df[\"Max Temp\"]>297)&(weather_0_df[\"Max Temp\"]<300) &(weather_0_df[\"Wind Speed\"]<2)&(weather_0_df[\"Humidity\"]<90)&(weather_0_df[\"Cloudiness\"]<30)\n",
    "\n",
    "#New Hotel Search Data Frame\n",
    "hotel_df=weather_0_df.loc[weather_filter,:]\n",
    "hotel_df\n",
    "# len(hotel_df)"
   ]
  },
  {
   "cell_type": "markdown",
   "metadata": {},
   "source": [
    "### Hotel Map\n",
    "* Store into variable named `hotel_df`.\n",
    "* Add a \"Hotel Name\" column to the DataFrame.\n",
    "* Set parameters to search for hotels with 5000 meters.\n",
    "* Hit the Google Places API for each city's coordinates.\n",
    "* Store the first Hotel result into the DataFrame.\n",
    "* Plot markers on top of the heatmap."
   ]
  },
  {
   "cell_type": "code",
   "execution_count": 5,
   "metadata": {},
   "outputs": [
    {
     "name": "stderr",
     "output_type": "stream",
     "text": [
      "/opt/anaconda3/lib/python3.8/site-packages/pandas/core/indexing.py:1596: SettingWithCopyWarning: \n",
      "A value is trying to be set on a copy of a slice from a DataFrame.\n",
      "Try using .loc[row_indexer,col_indexer] = value instead\n",
      "\n",
      "See the caveats in the documentation: https://pandas.pydata.org/pandas-docs/stable/user_guide/indexing.html#returning-a-view-versus-a-copy\n",
      "  self.obj[key] = _infer_fill_value(value)\n",
      "/opt/anaconda3/lib/python3.8/site-packages/pandas/core/indexing.py:1765: SettingWithCopyWarning: \n",
      "A value is trying to be set on a copy of a slice from a DataFrame.\n",
      "Try using .loc[row_indexer,col_indexer] = value instead\n",
      "\n",
      "See the caveats in the documentation: https://pandas.pydata.org/pandas-docs/stable/user_guide/indexing.html#returning-a-view-versus-a-copy\n",
      "  isetter(loc, value)\n"
     ]
    },
    {
     "name": "stdout",
     "output_type": "stream",
     "text": [
      "Unable to locate a hotel in Saint-Louis within 5000 meters.\n"
     ]
    }
   ],
   "source": [
    "#Starter URL: https://maps.googleapis.com/maps/api/place/nearbysearch/output?parameters\n",
    "base_url=\"https://maps.googleapis.com/maps/api/place/nearbysearch/json\"\n",
    "\n",
    "#Set the parameters used in the API call\n",
    "lat_long=''\n",
    "distance=5000\n",
    "target_type='lodging'\n",
    "\n",
    "query_parameters={\n",
    "    'key': g_key,\n",
    "    'location':lat_long,\n",
    "    'radius':distance,\n",
    "    'type':target_type\n",
    "}\n",
    "\n",
    "#Using iterrows, iterate through Hotel Data Frame, use Latitude \n",
    "#and Longitude to find nearest hotel and store it in Data Frame \n",
    "#under Hotel Name column\n",
    "\n",
    "# for index, each_row in hotel_df.head(5).iterrows():\n",
    "for index, each_row in hotel_df.iterrows():\n",
    "    \n",
    "    try:\n",
    "        #Get Latitude, Lontitude List\n",
    "        query_parameters['location']=f\"{each_row['Latitude']}, {each_row['Longitude']}\"\n",
    "    #     print(lat_long)\n",
    "\n",
    "        # Compile Query URL and make API request\n",
    "        response=requests.get(base_url,params=query_parameters)\n",
    "        data=response.json()\n",
    "#         pprint(data)\n",
    "\n",
    "        #Get Hotel name and add it to the Hotel Data Frame\n",
    "        hotel_df.loc[index,\"Hotel Name\"]=data['results'][0]['name']\n",
    "    \n",
    "    except:\n",
    "        print(f\"Unable to locate a hotel in {each_row['City']} within {distance} meters.\")\n",
    "#         print(f\"Unable to locate a hotel in {each_row['City']} within {distance} meters of {query_parameters['location']} coordinates.\")"
   ]
  },
  {
   "cell_type": "code",
   "execution_count": 6,
   "metadata": {
    "scrolled": true
   },
   "outputs": [
    {
     "data": {
      "text/plain": [
       "7"
      ]
     },
     "execution_count": 6,
     "metadata": {},
     "output_type": "execute_result"
    }
   ],
   "source": [
    "#Drop any row where there is an NaN, find number of cities have hotel within 500 meter\n",
    "hotel_1_df=hotel_df.dropna(axis=0,how='any')\n",
    "len(hotel_1_df)"
   ]
  },
  {
   "cell_type": "code",
   "execution_count": 7,
   "metadata": {},
   "outputs": [
    {
     "data": {
      "text/plain": [
       "8"
      ]
     },
     "execution_count": 7,
     "metadata": {},
     "output_type": "execute_result"
    }
   ],
   "source": [
    "#Number of cities in original hotel data frame, before dropping NaN\n",
    "len(hotel_df)"
   ]
  },
  {
   "cell_type": "code",
   "execution_count": 8,
   "metadata": {},
   "outputs": [],
   "source": [
    "# NOTE: Do not change any of the code in this cell\n",
    "\n",
    "# Using the template add the hotel marks to the heatmap\n",
    "info_box_template = \"\"\"\n",
    "<dl>\n",
    "<dt>Name</dt><dd>{Hotel Name}</dd>\n",
    "<dt>City</dt><dd>{City}</dd>\n",
    "<dt>Country</dt><dd>{Country}</dd>\n",
    "</dl>\n",
    "\"\"\"\n",
    "# Store the DataFrame Row\n",
    "# NOTE: be sure to update with your DataFrame name\n",
    "hotel_info = [info_box_template.format(**row) for index, row in hotel_1_df.iterrows()]\n",
    "locations = hotel_1_df[[\"Latitude\", \"Longitude\"]]"
   ]
  },
  {
   "cell_type": "code",
   "execution_count": 9,
   "metadata": {},
   "outputs": [
    {
     "data": {
      "application/vnd.jupyter.widget-view+json": {
       "model_id": "478807f0a14243b39ae274373dae70a1",
       "version_major": 2,
       "version_minor": 0
      },
      "text/plain": [
       "Figure(layout=FigureLayout(border='1px solid black', height='300px', margin='0 auto 0 auto', padding='1px', wi…"
      ]
     },
     "metadata": {},
     "output_type": "display_data"
    }
   ],
   "source": [
    "# Add marker layer ontop of heat map\n",
    "# fig=gmaps.figure()\n",
    "\n",
    "markers=gmaps.marker_layer(locations,info_box_content =hotel_info)\n",
    "# markers=gmaps.marker_layer(locations,hover_text=hotel_info)\n",
    "\n",
    "fig.add_layer(heat_layer)\n",
    "\n",
    "fig.add_layer(markers)\n",
    "\n",
    "# Display figure\n",
    "\n",
    "fig"
   ]
  },
  {
   "cell_type": "code",
   "execution_count": null,
   "metadata": {},
   "outputs": [],
   "source": []
  }
 ],
 "metadata": {
  "kernelspec": {
   "display_name": "Python 3",
   "language": "python",
   "name": "python3"
  },
  "language_info": {
   "codemirror_mode": {
    "name": "ipython",
    "version": 3
   },
   "file_extension": ".py",
   "mimetype": "text/x-python",
   "name": "python",
   "nbconvert_exporter": "python",
   "pygments_lexer": "ipython3",
   "version": "3.8.5"
  },
  "latex_envs": {
   "LaTeX_envs_menu_present": true,
   "autoclose": false,
   "autocomplete": true,
   "bibliofile": "biblio.bib",
   "cite_by": "apalike",
   "current_citInitial": 1,
   "eqLabelWithNumbers": true,
   "eqNumInitial": 1,
   "hotkeys": {
    "equation": "Ctrl-E",
    "itemize": "Ctrl-I"
   },
   "labels_anchors": false,
   "latex_user_defs": false,
   "report_style_numbering": false,
   "user_envs_cfg": false
  }
 },
 "nbformat": 4,
 "nbformat_minor": 4
}
